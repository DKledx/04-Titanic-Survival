{
  "cells": [
    {
      "cell_type": "markdown",
      "metadata": {},
      "source": [
        "# 🤖 Titanic Survival Prediction - Model Training\n",
        "\n",
        "## 📊 Mục tiêu\n",
        "- Train các baseline models\n",
        "- So sánh performance của different algorithms\n",
        "- Implement cross-validation\n",
        "- Chuẩn bị cho hyperparameter tuning\n",
        "\n",
        "## 📋 Nội dung\n",
        "1. **Data Preparation**\n",
        "2. **Baseline Models Training**\n",
        "3. **Model Performance Comparison**\n",
        "4. **Cross-Validation Analysis**\n",
        "5. **Feature Importance Analysis**\n",
        "6. **Model Selection**\n"
      ]
    },
    {
      "cell_type": "code",
      "execution_count": null,
      "metadata": {},
      "outputs": [],
      "source": [
        "# Import libraries\n",
        "import pandas as pd\n",
        "import numpy as np\n",
        "import matplotlib.pyplot as plt\n",
        "import seaborn as sns\n",
        "import warnings\n",
        "from sklearn.model_selection import train_test_split, cross_val_score, StratifiedKFold\n",
        "from sklearn.linear_model import LogisticRegression\n",
        "from sklearn.ensemble import RandomForestClassifier, GradientBoostingClassifier\n",
        "from sklearn.svm import SVC\n",
        "from sklearn.neighbors import KNeighborsClassifier\n",
        "from sklearn.naive_bayes import GaussianNB\n",
        "from sklearn.tree import DecisionTreeClassifier\n",
        "from sklearn.metrics import accuracy_score, classification_report, confusion_matrix, roc_auc_score\n",
        "from sklearn.preprocessing import StandardScaler, LabelEncoder\n",
        "import xgboost as xgb\n",
        "warnings.filterwarnings('ignore')\n",
        "\n",
        "# Set style\n",
        "plt.style.use('seaborn-v0_8')\n",
        "sns.set_palette(\"husl\")\n",
        "\n",
        "print(\"📚 Libraries imported successfully!\")\n",
        "print(\"🎨 Visualization style set!\")\n"
      ]
    },
    {
      "cell_type": "markdown",
      "metadata": {},
      "source": [
        "## 1. 📥 Data Preparation\n"
      ]
    },
    {
      "cell_type": "code",
      "execution_count": null,
      "metadata": {},
      "outputs": [],
      "source": [
        "# Import preprocessing utilities\n",
        "import sys\n",
        "sys.path.append('../src')\n",
        "from data_preprocessing import load_data, preprocess_data, prepare_features, get_feature_columns\n",
        "from models import ModelTrainer, evaluate_model\n",
        "from evaluation import evaluate_classification_model, plot_confusion_matrix, plot_roc_curve, compare_models\n",
        "\n",
        "# Load and preprocess data\n",
        "train_df, test_df = load_data('../data/raw/train.csv', '../data/raw/test.csv')\n",
        "processed_train_df, processed_test_df, label_encoders = preprocess_data(train_df, test_df)\n",
        "\n",
        "# Prepare features\n",
        "feature_columns = get_feature_columns()\n",
        "X = prepare_features(processed_train_df, feature_columns)\n",
        "y = processed_train_df['Survived']\n",
        "\n",
        "# Split data\n",
        "X_train, X_test, y_train, y_test = train_test_split(X, y, test_size=0.2, random_state=42, stratify=y)\n",
        "\n",
        "print(f\"📊 Training set shape: {X_train.shape}\")\n",
        "print(f\"📊 Test set shape: {X_test.shape}\")\n",
        "print(f\"📊 Feature columns: {feature_columns}\")\n",
        "\n",
        "# Display feature info\n",
        "print(f\"\\n🔍 Feature Information:\")\n",
        "print(f\"Features: {list(X.columns)}\")\n",
        "print(f\"Target distribution: {y.value_counts().to_dict()}\")\n"
      ]
    },
    {
      "cell_type": "markdown",
      "metadata": {},
      "source": [
        "## 2. 🤖 Baseline Models Training\n"
      ]
    },
    {
      "cell_type": "code",
      "execution_count": null,
      "metadata": {},
      "outputs": [],
      "source": [
        "# Initialize model trainer\n",
        "trainer = ModelTrainer(random_state=42)\n",
        "trainer.initialize_models()\n",
        "\n",
        "# Train all models\n",
        "results = trainer.train_models(X_train, y_train, X_test, y_test)\n",
        "\n",
        "# Display results summary\n",
        "print(\"\\n📊 MODEL PERFORMANCE SUMMARY:\")\n",
        "print(\"=\" * 50)\n",
        "for name, result in results.items():\n",
        "    print(f\"{name:20}: Accuracy = {result['accuracy']:.4f}, AUC = {result['auc']:.4f if result['auc'] else 'N/A'}\")\n"
      ]
    },
    {
      "cell_type": "markdown",
      "metadata": {},
      "source": [
        "## 3. 📊 Model Performance Comparison\n"
      ]
    },
    {
      "cell_type": "code",
      "execution_count": null,
      "metadata": {},
      "outputs": [],
      "source": [
        "# Comprehensive evaluation for each model\n",
        "evaluation_results = {}\n",
        "\n",
        "for name, result in results.items():\n",
        "    print(f\"\\n{'='*60}\")\n",
        "    print(f\"📊 Evaluating {name}\")\n",
        "    print(f\"{'='*60}\")\n",
        "    \n",
        "    # Evaluate model\n",
        "    eval_result = evaluate_classification_model(\n",
        "        y_test, result['predictions'], result['probabilities'], name\n",
        "    )\n",
        "    \n",
        "    # Plot confusion matrix\n",
        "    plot_confusion_matrix(y_test, result['predictions'], name)\n",
        "    \n",
        "    # Plot ROC curve if probabilities available\n",
        "    if result['probabilities'] is not None:\n",
        "        plot_roc_curve(y_test, result['probabilities'], name)\n",
        "    \n",
        "    # Store results\n",
        "    evaluation_results[name] = eval_result\n",
        "\n",
        "# Compare all models\n",
        "print(\"\\n🏆 MODEL COMPARISON:\")\n",
        "comparison_df = compare_models(evaluation_results, metric='accuracy')\n"
      ]
    }
  ],
  "metadata": {
    "language_info": {
      "name": "python"
    }
  },
  "nbformat": 4,
  "nbformat_minor": 2
}
