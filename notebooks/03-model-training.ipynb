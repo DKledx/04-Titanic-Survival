{
  "cells": [
    {
      "cell_type": "markdown",
      "metadata": {},
      "source": [
        "# 🤖 Titanic Survival Prediction - Model Training\n",
        "\n",
        "## 📊 Mục tiêu\n",
        "- Train các baseline models\n",
        "- So sánh performance của different algorithms\n",
        "- Implement cross-validation\n",
        "- Chuẩn bị cho hyperparameter tuning\n",
        "\n",
        "## 📋 Nội dung\n",
        "1. **Data Preparation**\n",
        "2. **Baseline Models Training**\n",
        "3. **Model Performance Comparison**\n",
        "4. **Cross-Validation Analysis**\n",
        "5. **Feature Importance Analysis**\n",
        "6. **Model Selection**\n"
      ]
    },
    {
      "cell_type": "code",
      "execution_count": 6,
      "metadata": {},
      "outputs": [
        {
          "name": "stdout",
          "output_type": "stream",
          "text": [
            "⚠️ XGBoost không có sẵn - sẽ bỏ qua XGBoost models\n",
            "⚠️ LightGBM không có sẵn - sẽ bỏ qua LightGBM models\n",
            "📚 Libraries imported successfully!\n",
            "🎨 Visualization style set!\n"
          ]
        }
      ],
      "source": [
        "# Import libraries\n",
        "import pandas as pd\n",
        "import numpy as np\n",
        "import matplotlib.pyplot as plt\n",
        "import seaborn as sns\n",
        "import warnings\n",
        "from sklearn.model_selection import train_test_split, cross_val_score, StratifiedKFold\n",
        "from sklearn.linear_model import LogisticRegression\n",
        "from sklearn.ensemble import RandomForestClassifier, GradientBoostingClassifier\n",
        "from sklearn.svm import SVC\n",
        "from sklearn.neighbors import KNeighborsClassifier\n",
        "from sklearn.naive_bayes import GaussianNB\n",
        "from sklearn.tree import DecisionTreeClassifier\n",
        "from sklearn.metrics import accuracy_score, classification_report, confusion_matrix, roc_auc_score\n",
        "from sklearn.preprocessing import StandardScaler, LabelEncoder\n",
        "\n",
        "# Import XGBoost và LightGBM (optional - sẽ skip nếu không có)\n",
        "try:\n",
        "    import xgboost as xgb\n",
        "    XGBOOST_AVAILABLE = True\n",
        "    print(\"✅ XGBoost version:\", xgb.__version__)\n",
        "except ImportError:\n",
        "    XGBOOST_AVAILABLE = False\n",
        "    print(\"⚠️ XGBoost không có sẵn - sẽ bỏ qua XGBoost models\")\n",
        "\n",
        "try:\n",
        "    import lightgbm as lgb\n",
        "    LIGHTGBM_AVAILABLE = True\n",
        "    print(\"✅ LightGBM version:\", lgb.__version__)\n",
        "except ImportError:\n",
        "    LIGHTGBM_AVAILABLE = False\n",
        "    print(\"⚠️ LightGBM không có sẵn - sẽ bỏ qua LightGBM models\")\n",
        "\n",
        "warnings.filterwarnings('ignore')\n",
        "\n",
        "# Set style\n",
        "plt.style.use('seaborn-v0_8')\n",
        "sns.set_palette(\"husl\")\n",
        "\n",
        "print(\"📚 Libraries imported successfully!\")\n",
        "print(\"🎨 Visualization style set!\")\n"
      ]
    },
    {
      "cell_type": "markdown",
      "metadata": {},
      "source": [
        "## 1. 📥 Data Preparation\n"
      ]
    },
    {
      "cell_type": "code",
      "execution_count": 8,
      "metadata": {},
      "outputs": [
        {
          "name": "stdout",
          "output_type": "stream",
          "text": [
            "✅ Data preprocessing modules imported successfully!\n",
            "⚠️ Error importing models: No module named 'xgboost'\n",
            "💡 Có thể do thiếu XGBoost hoặc LightGBM. Sẽ tạo ModelTrainer đơn giản...\n",
            "✅ Evaluation modules imported successfully!\n",
            "\n",
            "📥 Loading and preprocessing data...\n",
            "📊 Training set shape: (891, 12)\n",
            "📊 Test set shape: (418, 11)\n",
            "✅ Data preprocessing completed!\n",
            "📊 Processed training set shape: (891, 22)\n",
            "📊 Processed test set shape: (418, 22)\n",
            "📊 Training set shape: (712, 15)\n",
            "📊 Test set shape: (179, 15)\n",
            "📊 Feature columns: ['Pclass', 'Sex', 'Age', 'SibSp', 'Parch', 'Fare', 'Embarked', 'TitleGroup', 'FamilySize', 'IsAlone', 'FamilySizeGroup', 'CabinDeck', 'HasCabin', 'AgeGroup', 'FareGroup']\n",
            "\n",
            "🔍 Feature Information:\n",
            "Features: ['Pclass', 'Sex', 'Age', 'SibSp', 'Parch', 'Fare', 'Embarked', 'TitleGroup', 'FamilySize', 'IsAlone', 'FamilySizeGroup', 'CabinDeck', 'HasCabin', 'AgeGroup', 'FareGroup']\n",
            "Target distribution: {0.0: 549, 1.0: 342}\n"
          ]
        }
      ],
      "source": [
        "# Import preprocessing utilities\n",
        "import sys\n",
        "sys.path.append('../src')\n",
        "\n",
        "# Import với error handling để tránh lỗi module không tìm thấy\n",
        "try:\n",
        "    from data_preprocessing import load_data, preprocess_data, prepare_features, get_feature_columns\n",
        "    print(\"✅ Data preprocessing modules imported successfully!\")\n",
        "except ImportError as e:\n",
        "    print(f\"❌ Error importing data preprocessing: {e}\")\n",
        "    raise\n",
        "\n",
        "try:\n",
        "    from models import ModelTrainer, evaluate_model\n",
        "    print(\"✅ Model modules imported successfully!\")\n",
        "except ImportError as e:\n",
        "    print(f\"⚠️ Error importing models: {e}\")\n",
        "    print(\"💡 Có thể do thiếu XGBoost hoặc LightGBM. Sẽ tạo ModelTrainer đơn giản...\")\n",
        "    \n",
        "    # Tạo ModelTrainer đơn giản nếu không import được\n",
        "    class SimpleModelTrainer:\n",
        "        def __init__(self, random_state=42):\n",
        "            self.random_state = random_state\n",
        "            self.models = {}\n",
        "            \n",
        "        def initialize_models(self):\n",
        "            from sklearn.linear_model import LogisticRegression\n",
        "            from sklearn.ensemble import RandomForestClassifier, GradientBoostingClassifier\n",
        "            from sklearn.svm import SVC\n",
        "            from sklearn.neighbors import KNeighborsClassifier\n",
        "            from sklearn.naive_bayes import GaussianNB\n",
        "            from sklearn.tree import DecisionTreeClassifier\n",
        "            \n",
        "            self.models = {\n",
        "                'Logistic Regression': LogisticRegression(random_state=self.random_state, max_iter=1000),\n",
        "                'Random Forest': RandomForestClassifier(random_state=self.random_state, n_estimators=100),\n",
        "                'Gradient Boosting': GradientBoostingClassifier(random_state=self.random_state),\n",
        "                'SVM': SVC(random_state=self.random_state, probability=True),\n",
        "                'KNN': KNeighborsClassifier(),\n",
        "                'Naive Bayes': GaussianNB(),\n",
        "                'Decision Tree': DecisionTreeClassifier(random_state=self.random_state)\n",
        "            }\n",
        "            \n",
        "        def train_models(self, X_train, y_train, X_test, y_test):\n",
        "            results = {}\n",
        "            for name, model in self.models.items():\n",
        "                print(f\"🔄 Training {name}...\")\n",
        "                model.fit(X_train, y_train)\n",
        "                predictions = model.predict(X_test)\n",
        "                probabilities = model.predict_proba(X_test)[:, 1] if hasattr(model, 'predict_proba') else None\n",
        "                accuracy = accuracy_score(y_test, predictions)\n",
        "                auc = roc_auc_score(y_test, probabilities) if probabilities is not None else None\n",
        "                \n",
        "                results[name] = {\n",
        "                    'model': model,\n",
        "                    'predictions': predictions,\n",
        "                    'probabilities': probabilities,\n",
        "                    'accuracy': accuracy,\n",
        "                    'auc': auc\n",
        "                }\n",
        "            return results\n",
        "    \n",
        "    ModelTrainer = SimpleModelTrainer\n",
        "\n",
        "try:\n",
        "    from evaluation import evaluate_classification_model, plot_confusion_matrix, plot_roc_curve, compare_models\n",
        "    print(\"✅ Evaluation modules imported successfully!\")\n",
        "except ImportError as e:\n",
        "    print(f\"❌ Error importing evaluation: {e}\")\n",
        "    raise\n",
        "\n",
        "# Load and preprocess data\n",
        "print(\"\\n📥 Loading and preprocessing data...\")\n",
        "train_df, test_df = load_data('../data/raw/train.csv', '../data/raw/test.csv')\n",
        "processed_train_df, processed_test_df, label_encoders = preprocess_data(train_df, test_df)\n",
        "\n",
        "# Prepare features\n",
        "feature_columns = get_feature_columns()\n",
        "X = prepare_features(processed_train_df, feature_columns)\n",
        "y = processed_train_df['Survived']\n",
        "\n",
        "# Split data\n",
        "X_train, X_test, y_train, y_test = train_test_split(X, y, test_size=0.2, random_state=42, stratify=y)\n",
        "\n",
        "print(f\"📊 Training set shape: {X_train.shape}\")\n",
        "print(f\"📊 Test set shape: {X_test.shape}\")\n",
        "print(f\"📊 Feature columns: {feature_columns}\")\n",
        "\n",
        "# Display feature info\n",
        "print(f\"\\n🔍 Feature Information:\")\n",
        "print(f\"Features: {list(X.columns)}\")\n",
        "print(f\"Target distribution: {y.value_counts().to_dict()}\")\n"
      ]
    },
    {
      "cell_type": "markdown",
      "metadata": {},
      "source": [
        "## 2. 🤖 Baseline Models Training\n"
      ]
    },
    {
      "cell_type": "code",
      "execution_count": 9,
      "metadata": {},
      "outputs": [
        {
          "name": "stdout",
          "output_type": "stream",
          "text": [
            "🔄 Training Logistic Regression...\n",
            "🔄 Training Random Forest...\n",
            "🔄 Training Gradient Boosting...\n",
            "🔄 Training SVM...\n",
            "🔄 Training KNN...\n",
            "🔄 Training Naive Bayes...\n",
            "🔄 Training Decision Tree...\n",
            "\n",
            "📊 MODEL PERFORMANCE SUMMARY:\n",
            "==================================================\n"
          ]
        },
        {
          "ename": "ValueError",
          "evalue": "Invalid format specifier '.4f if result['auc'] else 'N/A'' for object of type 'float'",
          "output_type": "error",
          "traceback": [
            "\u001b[0;31m---------------------------------------------------------------------------\u001b[0m",
            "\u001b[0;31mValueError\u001b[0m                                Traceback (most recent call last)",
            "Cell \u001b[0;32mIn[9], line 12\u001b[0m\n\u001b[1;32m     10\u001b[0m \u001b[38;5;28mprint\u001b[39m(\u001b[38;5;124m\"\u001b[39m\u001b[38;5;124m=\u001b[39m\u001b[38;5;124m\"\u001b[39m \u001b[38;5;241m*\u001b[39m \u001b[38;5;241m50\u001b[39m)\n\u001b[1;32m     11\u001b[0m \u001b[38;5;28;01mfor\u001b[39;00m name, result \u001b[38;5;129;01min\u001b[39;00m results\u001b[38;5;241m.\u001b[39mitems():\n\u001b[0;32m---> 12\u001b[0m     \u001b[38;5;28mprint\u001b[39m(\u001b[38;5;124mf\u001b[39m\u001b[38;5;124m\"\u001b[39m\u001b[38;5;132;01m{\u001b[39;00mname\u001b[38;5;132;01m:\u001b[39;00m\u001b[38;5;124m20\u001b[39m\u001b[38;5;132;01m}\u001b[39;00m\u001b[38;5;124m: Accuracy = \u001b[39m\u001b[38;5;132;01m{\u001b[39;00mresult[\u001b[38;5;124m'\u001b[39m\u001b[38;5;124maccuracy\u001b[39m\u001b[38;5;124m'\u001b[39m]\u001b[38;5;132;01m:\u001b[39;00m\u001b[38;5;124m.4f\u001b[39m\u001b[38;5;132;01m}\u001b[39;00m\u001b[38;5;124m, AUC = \u001b[39m\u001b[38;5;132;01m{\u001b[39;00mresult[\u001b[38;5;124m'\u001b[39m\u001b[38;5;124mauc\u001b[39m\u001b[38;5;124m'\u001b[39m]\u001b[38;5;132;01m:\u001b[39;00m\u001b[38;5;124m.4f if result[\u001b[39m\u001b[38;5;124m'\u001b[39m\u001b[38;5;124mauc\u001b[39m\u001b[38;5;124m'\u001b[39m\u001b[38;5;124m] else \u001b[39m\u001b[38;5;124m'\u001b[39m\u001b[38;5;124mN/A\u001b[39m\u001b[38;5;124m'\u001b[39m\u001b[38;5;132;01m}\u001b[39;00m\u001b[38;5;124m\"\u001b[39m)\n",
            "\u001b[0;31mValueError\u001b[0m: Invalid format specifier '.4f if result['auc'] else 'N/A'' for object of type 'float'"
          ]
        }
      ],
      "source": [
        "# Initialize model trainer\n",
        "trainer = ModelTrainer(random_state=42)\n",
        "trainer.initialize_models()\n",
        "\n",
        "# Train all models\n",
        "results = trainer.train_models(X_train, y_train, X_test, y_test)\n",
        "\n",
        "# Display results summary\n",
        "print(\"\\n📊 MODEL PERFORMANCE SUMMARY:\")\n",
        "print(\"=\" * 50)\n",
        "for name, result in results.items():\n",
        "    print(f\"{name:20}: Accuracy = {result['accuracy']:.4f}, AUC = {result['auc']:.4f if result['auc'] else 'N/A'}\")\n"
      ]
    },
    {
      "cell_type": "markdown",
      "metadata": {},
      "source": [
        "## 3. 📊 Model Performance Comparison\n"
      ]
    },
    {
      "cell_type": "code",
      "execution_count": null,
      "metadata": {},
      "outputs": [],
      "source": [
        "# Comprehensive evaluation for each model\n",
        "evaluation_results = {}\n",
        "\n",
        "for name, result in results.items():\n",
        "    print(f\"\\n{'='*60}\")\n",
        "    print(f\"📊 Evaluating {name}\")\n",
        "    print(f\"{'='*60}\")\n",
        "    \n",
        "    # Evaluate model\n",
        "    eval_result = evaluate_classification_model(\n",
        "        y_test, result['predictions'], result['probabilities'], name\n",
        "    )\n",
        "    \n",
        "    # Plot confusion matrix\n",
        "    plot_confusion_matrix(y_test, result['predictions'], name)\n",
        "    \n",
        "    # Plot ROC curve if probabilities available\n",
        "    if result['probabilities'] is not None:\n",
        "        plot_roc_curve(y_test, result['probabilities'], name)\n",
        "    \n",
        "    # Store results\n",
        "    evaluation_results[name] = eval_result\n",
        "\n",
        "# Compare all models\n",
        "print(\"\\n🏆 MODEL COMPARISON:\")\n",
        "comparison_df = compare_models(evaluation_results, metric='accuracy')\n"
      ]
    }
  ],
  "metadata": {
    "kernelspec": {
      "display_name": "base",
      "language": "python",
      "name": "python3"
    },
    "language_info": {
      "codemirror_mode": {
        "name": "ipython",
        "version": 3
      },
      "file_extension": ".py",
      "mimetype": "text/x-python",
      "name": "python",
      "nbconvert_exporter": "python",
      "pygments_lexer": "ipython3",
      "version": "3.11.7"
    }
  },
  "nbformat": 4,
  "nbformat_minor": 2
}
