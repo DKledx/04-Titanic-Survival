{
  "cells": [
    {
      "cell_type": "markdown",
      "metadata": {},
      "source": [
        "# 🎯 Titanic Survival Prediction - Hyperparameter Tuning\n",
        "\n",
        "## 📊 Mục tiêu\n",
        "- Tối ưu hóa hyperparameters cho các models tốt nhất\n",
        "- Sử dụng GridSearchCV và RandomSearchCV\n",
        "- So sánh performance trước và sau tuning\n",
        "- Chọn best parameters cho production\n",
        "\n",
        "## 📋 Nội dung\n",
        "1. **Data Preparation**\n",
        "2. **Random Forest Tuning**\n",
        "3. **XGBoost Tuning**\n",
        "4. **Logistic Regression Tuning**\n",
        "5. **SVM Tuning**\n",
        "6. **Model Comparison After Tuning**\n",
        "7. **Best Model Selection**\n"
      ]
    },
    {
      "cell_type": "code",
      "execution_count": null,
      "metadata": {},
      "outputs": [],
      "source": [
        "# Import libraries\n",
        "import pandas as pd\n",
        "import numpy as np\n",
        "import matplotlib.pyplot as plt\n",
        "import seaborn as sns\n",
        "import warnings\n",
        "from sklearn.model_selection import GridSearchCV, RandomizedSearchCV, cross_val_score\n",
        "from sklearn.ensemble import RandomForestClassifier\n",
        "from sklearn.linear_model import LogisticRegression\n",
        "from sklearn.svm import SVC\n",
        "from sklearn.metrics import accuracy_score, classification_report\n",
        "import xgboost as xgb\n",
        "import joblib\n",
        "import time\n",
        "warnings.filterwarnings('ignore')\n",
        "\n",
        "# Set style\n",
        "plt.style.use('seaborn-v0_8')\n",
        "sns.set_palette(\"husl\")\n",
        "\n",
        "print(\"📚 Libraries imported successfully!\")\n",
        "print(\"🎨 Visualization style set!\")\n"
      ]
    }
  ],
  "metadata": {
    "language_info": {
      "name": "python"
    }
  },
  "nbformat": 4,
  "nbformat_minor": 2
}
