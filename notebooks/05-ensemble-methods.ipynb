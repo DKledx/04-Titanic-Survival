{
  "cells": [
    {
      "cell_type": "markdown",
      "metadata": {},
      "source": [
        "# 🗳️ Titanic Survival Prediction - Ensemble Methods\n",
        "\n",
        "## 📊 Mục tiêu\n",
        "- Implement ensemble methods để cải thiện performance\n",
        "- Sử dụng Voting Classifier và Stacking\n",
        "- So sánh performance của ensemble vs individual models\n",
        "- Tạo final model cho submission\n",
        "\n",
        "## 📋 Nội dung\n",
        "1. **Data Preparation**\n",
        "2. **Voting Classifier**\n",
        "3. **Stacking Classifier**\n",
        "4. **Bagging Methods**\n",
        "5. **Ensemble Performance Comparison**\n",
        "6. **Final Model Selection**\n"
      ]
    }
  ],
  "metadata": {
    "language_info": {
      "name": "python"
    }
  },
  "nbformat": 4,
  "nbformat_minor": 2
}
